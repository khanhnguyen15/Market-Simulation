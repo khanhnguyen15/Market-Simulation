{
 "cells": [
  {
   "cell_type": "code",
   "execution_count": 1,
   "metadata": {},
   "outputs": [],
   "source": [
    "%run \"../Agents.ipynb\""
   ]
  },
  {
   "cell_type": "code",
   "execution_count": 3,
   "metadata": {},
   "outputs": [],
   "source": [
    "import collections\n",
    "import random"
   ]
  },
  {
   "cell_type": "markdown",
   "metadata": {},
   "source": [
    "## Reinforcement Learning Agent\n",
    "\n",
    "This is the higher intelligent agent, which is trained using Reinforcement Learning. The algorithm "
   ]
  },
  {
   "cell_type": "code",
   "execution_count": 2,
   "metadata": {},
   "outputs": [],
   "source": [
    "class QTrader(TradingAgent):\n",
    "    def __init__(self, stock, cash):\n",
    "        super().__init__(stock, cash)\n",
    "        self.num_actions = 3\n",
    "        self.epsilon = 1\n",
    "        self.gamma = 0.95\n",
    "        self.learning_rate = 0.8\n",
    "        self.table = collections.defaultdict(float)\n",
    "     \n",
    "    def reset_table(self):\n",
    "        self.table = collections.defaultdict(float)\n",
    "        self.epsilon = 1\n",
    "        \n",
    "    def reset_trader(self, stock, cash):\n",
    "        self.X = stock.copy()\n",
    "        self.cash = cash.copy()\n",
    "    \n",
    "    def select_eps_greedy_action(self, obs):\n",
    "        _, action = self.best_action_value(obs)\n",
    "        if random.random() < epsilon:\n",
    "            return random.randint(0, self.num_actions - 1)\n",
    "        else:\n",
    "            return action\n",
    "    \n",
    "    def select_greedy_action(self, obs):\n",
    "        _, action = self.best_action_value(obs)\n",
    "        return action        \n",
    "    \n",
    "    def best_action_value(self, state):\n",
    "        best_action = 0\n",
    "        max_value = 0\n",
    "        for action in range(self.num_actions):\n",
    "            if self.table[(state, action)] > max_value:\n",
    "                best_action = action\n",
    "                max_value = self.table[(state, action)]\n",
    "        return max_value, best_action\n",
    "    \n",
    "    def q_learning(self, prev_obs, next_obs, reward, action):\n",
    "        best_value, _ = self.best_action_value(next_obs)\n",
    "        q_target = reward + self.gamma * best_value\n",
    "        q_error = q_target - self.table[(prev_obs, action)]\n",
    "        self.table[(prev_obs, action)] += self.learning_rate * q_error\n",
    "        \n",
    "    def update_epsilon(self, decay_rate):\n",
    "        self.epsilon *= decay_rate\n",
    "        \n",
    "    def make_transaction(self, S, current_step, action):\n",
    "        if action == 0:\n",
    "            self.action[current_step] = 0\n",
    "            self.transaction[current_step] = 0\n",
    "            return 0\n",
    "        elif action == 1:\n",
    "            self.transaction[current_step] = np.random.randint(-2, 0)\n",
    "            return self.transaction[current_step]\n",
    "        elif action == 2:\n",
    "            self.transaction[current_step] = np.random.randint(1, 3)\n",
    "            return self.transaction[current_step]\n",
    "    \n",
    "    def trade(self, S, current_step, action):\n",
    "        trade = self.make_transaction(S, current_step, action)\n",
    "        self.X[current_step] = self.X[current_step - 1] + trade\n",
    "        self.cash[current_step] = self.cash[current_step - 1] - trade * S[current_step - 1]\n",
    "        \n",
    "    def get_reward(self, S, current_step):\n",
    "        return (self.X[current_step] * S[current_step] + self.cash[current_step]) - (self.X[current_step - 1] * S[current_step - 1] + self.cash[current_step - 1])"
   ]
  }
 ],
 "metadata": {
  "kernelspec": {
   "display_name": "Python 3",
   "language": "python",
   "name": "python3"
  },
  "language_info": {
   "codemirror_mode": {
    "name": "ipython",
    "version": 3
   },
   "file_extension": ".py",
   "mimetype": "text/x-python",
   "name": "python",
   "nbconvert_exporter": "python",
   "pygments_lexer": "ipython3",
   "version": "3.7.3"
  }
 },
 "nbformat": 4,
 "nbformat_minor": 2
}
