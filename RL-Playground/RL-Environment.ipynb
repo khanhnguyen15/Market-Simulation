{
 "cells": [
  {
   "cell_type": "code",
   "execution_count": 1,
   "metadata": {},
   "outputs": [],
   "source": [
    "# import\n",
    "%matplotlib inline  \n",
    "import matplotlib.pyplot as plt\n",
    "import math\n",
    "import numpy as np"
   ]
  },
  {
   "cell_type": "markdown",
   "metadata": {},
   "source": [
    "## Support method\n",
    "\n",
    "Discretise a float number to get concrete value. Used to set up the state spaces of the environment"
   ]
  },
  {
   "cell_type": "code",
   "execution_count": 2,
   "metadata": {},
   "outputs": [],
   "source": [
    "def discretise(num):\n",
    "    return math.floor(num * 10) / 10"
   ]
  },
  {
   "cell_type": "markdown",
   "metadata": {},
   "source": [
    "## Trading Environment\n",
    "\n",
    "This trading environment followed the format of [Open AI's gym](https://gym.openai.com/) with respect to its `reset()` and `step()` functions."
   ]
  },
  {
   "cell_type": "code",
   "execution_count": 1,
   "metadata": {},
   "outputs": [],
   "source": [
    "class Environment:\n",
    "    def __init__(self, qTrader, S_original):\n",
    "        self.S_original = S_original.copy()\n",
    "        self.S = self.S_original.copy()\n",
    "        self.n = np.zeros(np.shape(X))\n",
    "        self.current_step = 0\n",
    "        self.traders = []\n",
    "        self.qTrader = qTrader\n",
    "        \n",
    "    def reset(self):\n",
    "        self.qTrader.reset_trader(X, cash)\n",
    "        self.S = self.S_original.copy()\n",
    "        self.n = np.zeros(np.shape(X))\n",
    "        self.current_step = 0\n",
    "        return discretise(self.S[0])\n",
    "    \n",
    "    def step(self, action):\n",
    "        for trader in self.traders:\n",
    "            trader.trade(self.S, self.current_step)\n",
    "            self.n[self.current_step] += trader.get_stock()[self.current_step - 1] - trader.get_stock()[self.current_step]\n",
    "        self.qTrader.trade(self.S, self.current_step, action)\n",
    "        self.n[self.current_step] += self.qTrader.get_stock()[self.current_step - 1] - self.qTrader.get_stock()[self.current_step]\n",
    "        self.S[self.current_step] = self.S[self.current_step] - permanent_impact(self.n[self.current_step], gamma)\n",
    "        self.current_step += 1\n",
    "        return discretise(self.S[self.current_step - 1]), self.qTrader.get_reward(self.S, self.current_step - 1), self.current_step >= N\n",
    "    \n",
    "    def plot_price(self):\n",
    "        plt.plot(t, self.S)\n",
    "        plt.xlabel('Time Steps')\n",
    "        plt.ylabel('Price after impact')\n",
    "        plt.show()\n",
    "        \n",
    "    def plot_value(self):\n",
    "        value = self.qTrader.get_value(self.S)\n",
    "        plt.plot(t, value)\n",
    "        plt.xlabel('Time Steps')\n",
    "        plt.ylabel('Current portfolio')\n",
    "        plt.show()"
   ]
  }
 ],
 "metadata": {
  "kernelspec": {
   "display_name": "Python 3",
   "language": "python",
   "name": "python3"
  },
  "language_info": {
   "codemirror_mode": {
    "name": "ipython",
    "version": 3
   },
   "file_extension": ".py",
   "mimetype": "text/x-python",
   "name": "python",
   "nbconvert_exporter": "python",
   "pygments_lexer": "ipython3",
   "version": "3.7.3"
  }
 },
 "nbformat": 4,
 "nbformat_minor": 2
}
