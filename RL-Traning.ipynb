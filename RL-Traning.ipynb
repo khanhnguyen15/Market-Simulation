{
 "cells": [
  {
   "cell_type": "code",
   "execution_count": 2,
   "metadata": {},
   "outputs": [
    {
     "name": "stderr",
     "output_type": "stream",
     "text": [
      "ERROR:root:File `'RL-Ennironment.ipynb.py'` not found.\n"
     ]
    }
   ],
   "source": [
    "%run \"Almgren-Chriss-Market.ipynb\"\n",
    "%run \"RL-Agent.ipynb\"\n",
    "%run \"RL-Environment.ipynb\""
   ]
  },
  {
   "cell_type": "code",
   "execution_count": null,
   "metadata": {},
   "outputs": [],
   "source": [
    "def test_game(trader, environment):\n",
    "    reward_games = []\n",
    "    for _ in range(100):\n",
    "        obs = environment.reset()\n",
    "        rewards = 0\n",
    "        while True:\n",
    "            next_obs, reward, done = environment.step(trader.select_greedy_action(obs))\n",
    "            obs = next_obs\n",
    "            rewards += reward\n",
    "            \n",
    "            if done:\n",
    "                reward_games.append(rewards)\n",
    "                break\n",
    "    return np.mean(reward_games)"
   ]
  },
  {
   "cell_type": "code",
   "execution_count": null,
   "metadata": {},
   "outputs": [],
   "source": [
    "EPS_DECAY_RATE = 0.9993\n",
    "MAX_GAMES = 15000"
   ]
  },
  {
   "cell_type": "code",
   "execution_count": null,
   "metadata": {},
   "outputs": [],
   "source": [
    "qt = QTrader(X, cash)\n",
    "env = Environment(qt, S_cos)"
   ]
  },
  {
   "cell_type": "code",
   "execution_count": null,
   "metadata": {},
   "outputs": [],
   "source": [
    "obs = env.reset()\n",
    "games_count = 0\n",
    "# reward_count = 0\n",
    "test_reward_list = []\n",
    "\n",
    "while games_count < MAX_GAMES:\n",
    "    action = qt.select_eps_greedy_action(obs)\n",
    "    next_obs, reward, done = env.step(action)\n",
    "    qt.q_learning(obs, next_obs, reward, action)\n",
    "    obs = next_obs\n",
    "    if done:\n",
    "        qt.update_epsilon(EPS_DECAY_RATE)\n",
    "        if games_count % 1000 == 0:\n",
    "            env.plot_price()\n",
    "            env.plot_value()            \n",
    "            print(qt.get_stock()[0], \" and \", qt.get_cash()[0])\n",
    "            test_reward = test_game(qt, env)\n",
    "            print('Games: ', games_count, 'Test reward: ', test_reward)\n",
    "            test_reward_list.append(test_reward)\n",
    "        obs = env.reset()\n",
    "        games_count += 1"
   ]
  },
  {
   "cell_type": "code",
   "execution_count": null,
   "metadata": {},
   "outputs": [],
   "source": [
    "plt.figure(figsize=(20,10))\n",
    "plt.xlabel('Steps')\n",
    "plt.ylabel('Accurracy')\n",
    "plt.plot(test_reward_list)\n",
    "plt.show()"
   ]
  }
 ],
 "metadata": {
  "kernelspec": {
   "display_name": "Python 3",
   "language": "python",
   "name": "python3"
  },
  "language_info": {
   "codemirror_mode": {
    "name": "ipython",
    "version": 3
   },
   "file_extension": ".py",
   "mimetype": "text/x-python",
   "name": "python",
   "nbconvert_exporter": "python",
   "pygments_lexer": "ipython3",
   "version": "3.7.2"
  }
 },
 "nbformat": 4,
 "nbformat_minor": 2
}
