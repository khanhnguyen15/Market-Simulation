{
 "cells": [
  {
   "cell_type": "code",
   "execution_count": 1,
   "metadata": {},
   "outputs": [],
   "source": [
    "%matplotlib inline  \n",
    "import matplotlib.pyplot as plt\n",
    "import random\n",
    "import math\n",
    "import numpy as np"
   ]
  },
  {
   "cell_type": "markdown",
   "metadata": {},
   "source": [
    "## Initialize global variables\n",
    "\n",
    "Time steps"
   ]
  },
  {
   "cell_type": "code",
   "execution_count": 2,
   "metadata": {},
   "outputs": [],
   "source": [
    "T = 20\n",
    "dt = 0.1\n",
    "N = round(T/dt)\n",
    "t = np.linspace(0, T, N)"
   ]
  },
  {
   "cell_type": "markdown",
   "metadata": {},
   "source": [
    "Stocks, cash and stock prices"
   ]
  },
  {
   "cell_type": "code",
   "execution_count": 3,
   "metadata": {},
   "outputs": [],
   "source": [
    "X0 = 50\n",
    "cash0 = 1000\n",
    "S0 = 100"
   ]
  },
  {
   "cell_type": "markdown",
   "metadata": {},
   "source": [
    "Initial stocks and cash for each agent"
   ]
  },
  {
   "cell_type": "code",
   "execution_count": 4,
   "metadata": {},
   "outputs": [],
   "source": [
    "X = [X0] * N\n",
    "cash = [cash0] * N"
   ]
  },
  {
   "cell_type": "markdown",
   "metadata": {},
   "source": [
    "Flat original price model"
   ]
  },
  {
   "cell_type": "code",
   "execution_count": 5,
   "metadata": {},
   "outputs": [],
   "source": [
    "S_flat = [S0] * N"
   ]
  },
  {
   "cell_type": "markdown",
   "metadata": {},
   "source": [
    "Cosine original price model"
   ]
  },
  {
   "cell_type": "code",
   "execution_count": 6,
   "metadata": {},
   "outputs": [],
   "source": [
    "S_cos = S0 + np.cos(np.arange(0, T, dt))"
   ]
  },
  {
   "cell_type": "markdown",
   "metadata": {},
   "source": [
    "## Volatility factor\n",
    "\n",
    "The volatility factor can act as a noise generating factor for the initial price data.\n",
    "\n",
    "Based on Almgren-Chriss Trading Model, this factor is draw upon independent random variables each with zero mean and unit variance. Therefore, volatility factor occure randomly and independently of the trading activities"
   ]
  },
  {
   "cell_type": "code",
   "execution_count": 7,
   "metadata": {},
   "outputs": [],
   "source": [
    "## independent random variable in volativity\n",
    "xi = np.insert(np.random.normal(0, 1.0, N - 1), 0, 0.0)\n",
    "\n",
    "# volatility\n",
    "volatility = 0.2\n",
    "\n",
    "#volatility factor\n",
    "def volatility_factor(volatility, xi):\n",
    "    return volatility * xi"
   ]
  },
  {
   "cell_type": "markdown",
   "metadata": {},
   "source": [
    "Cosine model with random volatility factor"
   ]
  },
  {
   "cell_type": "code",
   "execution_count": 8,
   "metadata": {},
   "outputs": [],
   "source": [
    "S_vcos = [S_cos[i] + volatility_factor(volatility, xi[i]) for i in range(N)]"
   ]
  },
  {
   "cell_type": "markdown",
   "metadata": {},
   "source": [
    "## Market Impact\n",
    "\n",
    "Market impact functions are the impacts market participants have on driving market price. These impacts are the driect result of the number of orders each agent buy/sell.\n",
    "\n",
    "Market impacts can be differentiated into 2 type of impacts:\n",
    "* Permanent impact: Impact that would be resulting sequential price permanently.\n",
    "* Temporary impact: Impact on the price of the current time step only, and will disappear as soon as the market enter the next trading session."
   ]
  },
  {
   "cell_type": "markdown",
   "metadata": {},
   "source": [
    "Constant variables for market impact"
   ]
  },
  {
   "cell_type": "code",
   "execution_count": 9,
   "metadata": {},
   "outputs": [],
   "source": [
    "gamma = 0.01\n",
    "epsilon = 0.1\n",
    "eta = 0.1"
   ]
  },
  {
   "cell_type": "markdown",
   "metadata": {},
   "source": [
    "Market impact functions"
   ]
  },
  {
   "cell_type": "code",
   "execution_count": 10,
   "metadata": {},
   "outputs": [],
   "source": [
    "def permanent_impact(n, gamma):\n",
    "    return gamma * n\n",
    "\n",
    "def temporary_impact(n, epsilon, eta):\n",
    "    return epsilon * np.sign(n) + eta * n"
   ]
  },
  {
   "cell_type": "code",
   "execution_count": null,
   "metadata": {},
   "outputs": [],
   "source": []
  }
 ],
 "metadata": {
  "kernelspec": {
   "display_name": "Python 3",
   "language": "python",
   "name": "python3"
  },
  "language_info": {
   "codemirror_mode": {
    "name": "ipython",
    "version": 3
   },
   "file_extension": ".py",
   "mimetype": "text/x-python",
   "name": "python",
   "nbconvert_exporter": "python",
   "pygments_lexer": "ipython3",
   "version": "3.7.2"
  }
 },
 "nbformat": 4,
 "nbformat_minor": 2
}
