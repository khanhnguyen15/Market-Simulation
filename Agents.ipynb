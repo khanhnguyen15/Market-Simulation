{
 "cells": [
  {
   "cell_type": "code",
   "execution_count": 1,
   "metadata": {},
   "outputs": [],
   "source": [
    "import numpy as np"
   ]
  },
  {
   "cell_type": "markdown",
   "metadata": {},
   "source": [
    "## Parent Agent Class\n",
    "\n",
    "The class defined the mechanics of any agents in the simulation"
   ]
  },
  {
   "cell_type": "code",
   "execution_count": 2,
   "metadata": {},
   "outputs": [],
   "source": [
    "class TradingAgent:\n",
    "    def __init__(self, stock, cash):\n",
    "        self.X = stock.copy()\n",
    "        self.cash = cash.copy()\n",
    "        self.min_leverage = 1\n",
    "        self.max_leverage = 8\n",
    "        self.action = np.zeros(np.shape(X))\n",
    "        self.transaction = np.zeros(np.shape(X))\n",
    "        \n",
    "    def make_transaction(self, S, current_step):\n",
    "        return np.random.randint(-2, 3)\n",
    "    \n",
    "    def trade(self, S, current_step):\n",
    "        self.X[current_step] = self.X[current_step - 1] + self.make_transaction(S, current_step)\n",
    "        self.cash[current_step] = self.cash[current_step - 1] - self.make_transaction(S, current_step) * S[current_step - 1]\n",
    "            \n",
    "    def get_stock(self):\n",
    "        return self.X\n",
    "    \n",
    "    def get_cash(self):\n",
    "        return self.cash\n",
    "    \n",
    "    def get_value(self, S):\n",
    "        return [x * s + c for x, s, c in zip(self.X, S, self.cash)]\n",
    "    \n",
    "    def get_action(self):\n",
    "        return self.action\n",
    "    \n",
    "    def get_transaction(self):\n",
    "        return self.transaction"
   ]
  },
  {
   "cell_type": "markdown",
   "metadata": {},
   "source": [
    "## Random Agents\n",
    "\n",
    "This type of agents will place random orders in each time steps. The purpose of creating Random Agents are:\n",
    "* To fill the market with a fixed number of agents\n",
    "* Generate noise"
   ]
  },
  {
   "cell_type": "code",
   "execution_count": 3,
   "metadata": {},
   "outputs": [],
   "source": [
    "class RandomTrader(TradingAgent):  \n",
    "    def make_transaction(self, S, current_step):\n",
    "        buyOrSell = np.random.randint(0, 2)\n",
    "        if buyOrSell == 0:\n",
    "            self.transaction[current_step] = self.buy(S, current_step)\n",
    "            return self.buy(S, current_step)\n",
    "        elif buyOrSell == 1:\n",
    "            self.transaction[current_step] = self.sell(S, current_step)\n",
    "            return self.sell(S, current_step)\n",
    "    \n",
    "    def buy(self, S, current_step):\n",
    "        self.action[current_step] = 1\n",
    "        if self.cash[current_step - 1] >= S[current_step - 1] * 2:\n",
    "            return np.random.randint(-2, 1)\n",
    "        else:\n",
    "            return 0\n",
    "    \n",
    "    def sell(self, S, current_step):\n",
    "        self.action[current_step] = -1\n",
    "        if self.X[current_step - 1] >= 2:\n",
    "            return np.random.randint(0, 3)\n",
    "        else:\n",
    "            return 0"
   ]
  },
  {
   "cell_type": "markdown",
   "metadata": {},
   "source": [
    "## Trend Following Traders\n",
    "\n",
    "This agents will make decisions following the trend in the market price. It will buy when the price goes above moving average price in a specific time window and sell otherwise"
   ]
  },
  {
   "cell_type": "code",
   "execution_count": 4,
   "metadata": {},
   "outputs": [],
   "source": [
    "class TrendFollower(TradingAgent):\n",
    "    def make_transaction(self, S, current_step):\n",
    "        if current_step <= 3:\n",
    "            return 0\n",
    "        mean = sum(S[current_step - 4:current_step - 1])/3\n",
    "        if S[current_step - 1] < mean:\n",
    "            self.transaction[current_step] = self.sell(S, current_step)\n",
    "            return self.sell(S, current_step)\n",
    "        elif S[current_step - 1] > mean:\n",
    "            self.transaction[current_step] = self.buy(S, current_step)\n",
    "            return self.buy(S, current_step)\n",
    "        else:\n",
    "            return 0\n",
    "        \n",
    "    def buy(self, S, current_step):\n",
    "        self.action[current_step] = 1\n",
    "        totalValue = X[current_step - 1] * S[current_step - 1] + cash[current_step - 1]\n",
    "        return np.floor((self.max_leverage / (self.max_leverage + 1)) * totalValue / S[current_step - 1]) - self.X[current_step - 1]\n",
    "    \n",
    "    def sell(self, S, current_step):\n",
    "        self.action[current_step] = -1\n",
    "        totalValue = X[current_step - 1] * S[current_step - 1] + cash[current_step - 1]\n",
    "        return np.ceil((self.min_leverage / (self.min_leverage + 1)) * totalValue / S[current_step - 1]) - self.X[current_step - 1]"
   ]
  },
  {
   "cell_type": "markdown",
   "metadata": {},
   "source": [
    "## Mean Reversion\n",
    "\n",
    "This agent algorithm is the opposition of trend following. It will goes against the market price trend. This algorithm will often lead to a more active type of agent, as its placing of orders will drive the price in the opposite direction, making it more vulnerable to trading activities."
   ]
  },
  {
   "cell_type": "code",
   "execution_count": 5,
   "metadata": {},
   "outputs": [],
   "source": [
    "class MeanReversion(TradingAgent):\n",
    "    def make_transaction(self, S, current_step):\n",
    "        if current_step <= 3:\n",
    "            return 0\n",
    "        mean = sum(S[current_step - 4:current_step - 1])/3\n",
    "        if S[current_step - 1] > mean:\n",
    "            self.transaction[current_step] = self.sell(S, current_step)\n",
    "            return self.sell(S, current_step)\n",
    "        elif S[current_step - 1] < mean:\n",
    "            self.transaction[current_step] = self.buy(S, current_step)\n",
    "            return self.buy(S, current_step)\n",
    "        else:\n",
    "            return 0\n",
    "        \n",
    "    def buy(self, S, current_step):\n",
    "        self.action[current_step] = 1\n",
    "        totalValue = X[current_step - 1] * S[current_step - 1] + cash[current_step - 1]\n",
    "        return np.floor((self.max_leverage / (self.max_leverage + 1)) * totalValue / S[current_step - 1]) - self.X[current_step - 1]\n",
    "    \n",
    "    def sell(self, S, current_step):\n",
    "        self.action[current_step] = -1\n",
    "        totalValue = X[current_step - 1] * S[current_step - 1] + cash[current_step - 1]\n",
    "        return np.ceil((self.min_leverage / (self.min_leverage + 1)) * totalValue / S[current_step - 1]) - self.X[current_step - 1]"
   ]
  },
  {
   "cell_type": "code",
   "execution_count": null,
   "metadata": {},
   "outputs": [],
   "source": []
  }
 ],
 "metadata": {
  "kernelspec": {
   "display_name": "Python 3",
   "language": "python",
   "name": "python3"
  },
  "language_info": {
   "codemirror_mode": {
    "name": "ipython",
    "version": 3
   },
   "file_extension": ".py",
   "mimetype": "text/x-python",
   "name": "python",
   "nbconvert_exporter": "python",
   "pygments_lexer": "ipython3",
   "version": "3.7.3"
  }
 },
 "nbformat": 4,
 "nbformat_minor": 2
}
