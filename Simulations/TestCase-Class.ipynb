{
 "cells": [
  {
   "cell_type": "code",
   "execution_count": 4,
   "metadata": {},
   "outputs": [],
   "source": [
    "%run \"../Agents.ipynb\"\n",
    "%run \"../Real-Market-Data.ipynb\"\n",
    "%run \"../Almgren-Chriss-Market.ipynb\""
   ]
  },
  {
   "cell_type": "code",
   "execution_count": 5,
   "metadata": {},
   "outputs": [],
   "source": [
    "%matplotlib inline  \n",
    "import matplotlib.pyplot as plt\n",
    "import numpy as np"
   ]
  },
  {
   "cell_type": "markdown",
   "metadata": {},
   "source": [
    "## A Test Case class to formalize the simulating process"
   ]
  },
  {
   "cell_type": "code",
   "execution_count": 6,
   "metadata": {},
   "outputs": [],
   "source": [
    "class TestCase:\n",
    "    def __init__(self, X, S_original):\n",
    "        self.S = S_original.copy()\n",
    "        self.n = np.zeros(np.shape(X))\n",
    "        self.traders = []\n",
    "    \n",
    "    def add_trader(self, num, trader_type):\n",
    "        if num == 0:\n",
    "            return\n",
    "        for i in range(num):\n",
    "            self.traders.append(trader_type(X, cash))\n",
    "    \n",
    "    def get_trader(self, index):\n",
    "        return self.traders[index]\n",
    "            \n",
    "    def update_price(self):\n",
    "        step = 0\n",
    "        for i in range(N):\n",
    "            step = step + 1\n",
    "            for trader in self.traders:\n",
    "                trader.trade(self.S, i)\n",
    "                self.n[i] += trader.get_stock()[i - 1] - trader.get_stock()[i]\n",
    "            self.S[i] = self.S[i] - permanent_impact(self.n[i], gamma)\n",
    "            \n",
    "    def get_price(self):\n",
    "        return self.S\n",
    "    \n",
    "    def get_price_return(self):\n",
    "        price_return = [(self.S[t + 1] - self.S[t]) / self.S[t] for t in range(N - 1)]\n",
    "        price_return.insert(0, 0)\n",
    "        return price_return\n",
    "    \n",
    "    def get_stock_difference(self):\n",
    "        return self.n\n",
    "    \n",
    "    def get_volatility(self):\n",
    "        variance = np.square([x - np.average(self.S) for x in self.S])\n",
    "        return math.sqrt(np.sum(variance) / (N - 1))\n",
    "    \n",
    "    def get_variance(self):\n",
    "        return [self.S[i] - S[i] for i in range(N)]\n",
    "    \n",
    "    def plot_price(self):\n",
    "        plt.plot(t, self.S)\n",
    "        plt.xlabel('Time Steps')\n",
    "        plt.ylabel('Price after impact')\n",
    "        plt.show()\n",
    "        \n",
    "    def plot_price_return(self):\n",
    "        price_return = self.get_price_return()\n",
    "        plt.plot(t, price_return)\n",
    "        plt.xlabel('Time Steps')\n",
    "        plt.ylabel('Price return')\n",
    "        plt.show()"
   ]
  },
  {
   "cell_type": "code",
   "execution_count": null,
   "metadata": {},
   "outputs": [],
   "source": []
  }
 ],
 "metadata": {
  "celltoolbar": "Raw Cell Format",
  "kernelspec": {
   "display_name": "Python 3",
   "language": "python",
   "name": "python3"
  },
  "language_info": {
   "codemirror_mode": {
    "name": "ipython",
    "version": 3
   },
   "file_extension": ".py",
   "mimetype": "text/x-python",
   "name": "python",
   "nbconvert_exporter": "python",
   "pygments_lexer": "ipython3",
   "version": "3.7.3"
  }
 },
 "nbformat": 4,
 "nbformat_minor": 2
}
